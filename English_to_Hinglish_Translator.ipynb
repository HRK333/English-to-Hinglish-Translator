{
 "cells": [
  {
   "cell_type": "markdown",
   "id": "e5782530",
   "metadata": {},
   "source": [
    "## Method 1"
   ]
  },
  {
   "cell_type": "code",
   "execution_count": 2,
   "id": "1dc6edc3",
   "metadata": {},
   "outputs": [],
   "source": [
    "# import modules\n",
    "from tkinter import *\n",
    "from englisttohindi.englisttohindi import EngtoHindi\n",
    " \n",
    "# user define function\n",
    "def eng_to_hindi():\n",
    "    trans = EngtoHindi(str(e.get()))\n",
    "    res = trans.convert\n",
    "    result.set(res)  \n",
    "    \n",
    "# background set for grey\n",
    "master = Tk()\n",
    "master.configure(bg = 'light grey')\n",
    "master.title(\"English to Hindi Translator\")\n",
    " \n",
    "# Variable Classes in tkinter\n",
    "result = StringVar();\n",
    " \n",
    "# Creating label for each information using widget Label\n",
    "Label(master, text=\"Enter Text : \" , bg = \"light grey\").grid(row = 0, sticky = W)\n",
    "Label(master, text=\"Result :\", bg = \"light grey\").grid(row = 3, sticky = W)\n",
    " \n",
    "# Creating label for class variable name using widget Entry\n",
    "Label(master, text=\"\", textvariable=result,bg = \"light grey\").grid(row = 3, column = 1, sticky = W)\n",
    " \n",
    "e = Entry(master, width = 100)\n",
    "e.grid(row = 0, column = 1)\n",
    " \n",
    "# creating a button using the widget Button that will call the submit function\n",
    "b = Button(master, text = \"Transate\", command = eng_to_hindi, bg = \"Red\")\n",
    "b.grid(row = 0, column = 2)\n",
    " \n",
    "mainloop()"
   ]
  },
  {
   "cell_type": "code",
   "execution_count": null,
   "id": "a59279e5",
   "metadata": {},
   "outputs": [],
   "source": []
  },
  {
   "cell_type": "code",
   "execution_count": null,
   "id": "3349a6a6",
   "metadata": {},
   "outputs": [],
   "source": []
  },
  {
   "cell_type": "markdown",
   "id": "cd22c491",
   "metadata": {},
   "source": [
    "## Method 2"
   ]
  },
  {
   "cell_type": "code",
   "execution_count": 3,
   "id": "6361c58a",
   "metadata": {},
   "outputs": [
    {
     "name": "stdout",
     "output_type": "stream",
     "text": [
      "I had about a 30 minute demo just using this new headset\n",
      "Result: मेरे पास इस नए हेडसेट का उपयोग करके लगभग 30 मिनट का डेमो था\n"
     ]
    }
   ],
   "source": [
    "from googletrans import Translator\n",
    "\n",
    "def translate_to_hinglish(text):\n",
    "    translator = Translator()\n",
    "    translation = translator.translate(text, src='en', dest='hi')\n",
    "    return translation.text\n",
    "\n",
    "# English text to be translated\n",
    "english_text = input()\n",
    "\n",
    "# Translate to Hinglish\n",
    "hinglish_text = translate_to_hinglish(english_text)\n",
    "\n",
    "print(\"Result:\", hinglish_text)"
   ]
  },
  {
   "cell_type": "code",
   "execution_count": null,
   "id": "4997baee",
   "metadata": {},
   "outputs": [],
   "source": []
  }
 ],
 "metadata": {
  "kernelspec": {
   "display_name": "Python 3 (ipykernel)",
   "language": "python",
   "name": "python3"
  },
  "language_info": {
   "codemirror_mode": {
    "name": "ipython",
    "version": 3
   },
   "file_extension": ".py",
   "mimetype": "text/x-python",
   "name": "python",
   "nbconvert_exporter": "python",
   "pygments_lexer": "ipython3",
   "version": "3.9.13"
  }
 },
 "nbformat": 4,
 "nbformat_minor": 5
}
